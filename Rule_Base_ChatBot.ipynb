{
  "nbformat": 4,
  "nbformat_minor": 0,
  "metadata": {
    "colab": {
      "provenance": []
    },
    "kernelspec": {
      "name": "python3",
      "display_name": "Python 3"
    },
    "language_info": {
      "name": "python"
    }
  },
  "cells": [
    {
      "cell_type": "code",
      "execution_count": null,
      "metadata": {
        "id": "CqqhEWLINQ7w"
      },
      "outputs": [],
      "source": []
    },
    {
      "cell_type": "code",
      "source": [
        " import re\n",
        " import random"
      ],
      "metadata": {
        "id": "gkwqNazWNZy5"
      },
      "execution_count": null,
      "outputs": []
    },
    {
      "cell_type": "code",
      "source": [
        "class RuleBot:\n",
        "  ### Potential negative Responses\n",
        "  negative_responses = (\"no\", \"nope\", \"nah\", \"naw\", \"not a chance\", \"sorry\", \"wrong\", \"not\")\n",
        "  ### Exit conversation keywords\n",
        "  exit_commands = (\"quit\", \"pause\", \"exit\", \"goodbye\", \"bye\", \"later\")\n",
        "  ### Random starter question\n",
        "  random_question = (\n",
        "      \"Why are you here?\",\n",
        "      \"Are there many humans like you?\",\n",
        "      \"What d you consume for sustenance?\",\n",
        "      \"Is there intelligent life on planet?\",\n",
        "      \"Does Earth have a leader?\",\n",
        "      \"what planets have you visited?\",\n",
        "      \"what technology do you have on this planet?\"\n",
        "  )\n",
        "\n",
        "\n",
        "  def __init__(self):\n",
        "    self.alienbabble = {'describe_planet_intent': r'.*\\s*your planet.*',\n",
        "                        'answer_why_intent': r'why\\sare.*',\n",
        "                        'about_intellipat': r'.*\\s*intellipat'\n",
        "                        }\n",
        "\n",
        "  def greet(self):\n",
        "    self.name = input(\"what is your name?(Give only your name)\\n\")\n",
        "    will_help = input(\n",
        "        f\"Hi {self.name}, I am Rule-Bot. Will you help me learn about your planet?\\n\")\n",
        "    if will_help in self.negative_responses:\n",
        "      print(\"Ok, have a nice Earth day!\")\n",
        "      return\n",
        "    self.chat()\n",
        "\n",
        "\n",
        "  def make_exit(self, reply):\n",
        "    for command in self.exit_commands:\n",
        "      if reply == command:\n",
        "        print(\"Ok, have a nice Earth day!\")\n",
        "        return True\n",
        "\n",
        "\n",
        "  def chat(self):\n",
        "    reply = input(random.choice(self.random_question)).lower()\n",
        "    while not self.make_exit(reply):\n",
        "      reply = input(self.match_reply(reply))\n",
        "\n",
        "\n",
        "  def match_reply(self, reply):\n",
        "    for key, value in self.alienbabble.items():\n",
        "      intent = key\n",
        "      regex_pattern = value\n",
        "      found_match = re.match(regex_pattern, reply)\n",
        "      if found_match and intent == 'describe_planet_intent':\n",
        "        return self.describe_planet_intent()\n",
        "      elif found_match and intent == 'answer_why_intent':\n",
        "        return self.answer_why_intent()\n",
        "      elif found_match and intent == 'about_intellipat':\n",
        "        return self.about_intellipat()\n",
        "    if not found_match:\n",
        "      return self.no_match_intent()\n",
        "\n",
        "  def describe_planet_intent(self):\n",
        "    responses = (\"My planet is a utopia of diverse organism and species. \\n\",\n",
        "                \"I am from Opidipus, the capital of the Wayward Galaxies.\\n\")\n",
        "    return random.choice(responses)\n",
        "\n",
        "  def answer_why_intent(self):\n",
        "    responses = (\"I come in peace\\n\", \"I am here to collect data on your planet and its inhabitants\\n\",\n",
        "                \"I heard the coffee is good\\n\")\n",
        "    return random.choice(responses)\n",
        "\n",
        "  def about_intellipat(self):\n",
        "    responses = (\"Intellipat is world's largest professional educational company\\n\", \"Intellipat will make you learn concepts in the way never learned before\\n\",\n",
        "                \"Intellipat is where your career and skill grows\\n\")\n",
        "    return random.choice(responses)\n",
        "\n",
        "  def no_match_intent(self):\n",
        "    responses = (\"Please tell me more.\\n\", \"Tell me more!\\n\", \"Why do you say that?\\n\", \"I see. Can you elaborate?\\n\", \"Interesting! Can you tell me more?\\n\", \"I see. How do you think?\\n\", \"Why?\\n\", \"How do you think I feel when you say that?\\n\")\n",
        "    return random.choice(responses)\n",
        "\n",
        "AlienBot = RuleBot()\n",
        "AlienBot.greet()\n",
        "\n",
        "\n",
        "\n"
      ],
      "metadata": {
        "colab": {
          "base_uri": "https://localhost:8080/"
        },
        "id": "8oChfqJDNlIP",
        "outputId": "3d7abb7e-b095-4461-f03f-1131a7b8a82d"
      },
      "execution_count": null,
      "outputs": [
        {
          "output_type": "stream",
          "name": "stdout",
          "text": [
            "what is your name?(Give only your name)\n",
            "alien\n",
            "Hi alien, I am Rule-Bot. Will you help me learn about your planet?\n",
            "i dont know much about my planet\n",
            "what technology do you have on this planet?i dont know\n",
            "Please tell me more.\n",
            "thats i\n",
            "Tell me more!\n",
            "we use telephone to communicate\n",
            "I see. How do you think?\n",
            "what do you think\n",
            "Why do you say that?\n",
            "tell me about your planet\n",
            "I am from Opidipus, the capital of the Wayward Galaxies.\n",
            "cool. tell me more\n",
            "Interesting! Can you tell me more?\n",
            "tell me more\n",
            "Please tell me more.\n",
            " quit\n",
            "Why do you say that?\n",
            "quit\n",
            "Ok, have a nice Earth day!\n"
          ]
        }
      ]
    },
    {
      "cell_type": "code",
      "source": [],
      "metadata": {
        "id": "sHo5tpOYWc5t"
      },
      "execution_count": null,
      "outputs": []
    }
  ]
}